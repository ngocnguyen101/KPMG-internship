{
 "cells": [
  {
   "cell_type": "code",
   "execution_count": 47,
   "id": "da277939",
   "metadata": {},
   "outputs": [],
   "source": [
    "import pandas as pd\n",
    "import numpy as np\n",
    "import matplotlib.pyplot as plt\n",
    "\n",
    "import xlrd\n"
   ]
  },
  {
   "cell_type": "code",
   "execution_count": 250,
   "id": "16283367",
   "metadata": {},
   "outputs": [],
   "source": [
    "#Reading data\n",
    "#Export sheets from the .xlsx workbook into seperate datset\n",
    "trans = pd.read_excel('KPMG_dataset.xlsx', sheet_name = \"Transactions\", engine = 'openpyxl')\n",
    "newCus = pd.read_excel('KPMG_dataset.xlsx', sheet_name = \"NewCustomerList\", engine = 'openpyxl')\n",
    "cusDemograph = pd.read_excel('KPMG_dataset.xlsx', sheet_name = \"CustomerDemographic\", engine = 'openpyxl')\n",
    "address = pd.read_excel('KPMG_dataset.xlsx', sheet_name = \"CustomerAddress\", engine = 'openpyxl')\n",
    "\n",
    "# remove the note from the dataset\n",
    "trans = trans.rename(columns=trans.iloc[0])\n",
    "newCus = newCus.rename(columns=newCus.iloc[0])\n",
    "cusDemograph = cusDemograph.rename(columns=cusDemograph.iloc[0])\n",
    "address= address.rename(columns=address.iloc[0])\n"
   ]
  },
  {
   "cell_type": "code",
   "execution_count": 164,
   "id": "740a51b6",
   "metadata": {},
   "outputs": [],
   "source": [
    "trans = trans.iloc[:,0:13]"
   ]
  },
  {
   "cell_type": "markdown",
   "id": "209867b9",
   "metadata": {},
   "source": [
    "### Checking Correct Values in each Column in the Datasets ( Accuracy)\n"
   ]
  },
  {
   "cell_type": "markdown",
   "id": "f48d60ea",
   "metadata": {},
   "source": [
    "#### Transaction dataset"
   ]
  },
  {
   "cell_type": "markdown",
   "id": "04e07acc",
   "metadata": {},
   "source": [
    "From my perspective through excel files, transaction_id', 'product_id', 'customer_id', 'transaction_date','online_order', 'order_status', 'product_line','product_class', 'product_size' columns have correct values. I will only experiment the remains columns.\n",
    "      "
   ]
  },
  {
   "cell_type": "code",
   "execution_count": 82,
   "id": "e24b1546",
   "metadata": {},
   "outputs": [
    {
     "data": {
      "text/html": [
       "<div>\n",
       "<style scoped>\n",
       "    .dataframe tbody tr th:only-of-type {\n",
       "        vertical-align: middle;\n",
       "    }\n",
       "\n",
       "    .dataframe tbody tr th {\n",
       "        vertical-align: top;\n",
       "    }\n",
       "\n",
       "    .dataframe thead th {\n",
       "        text-align: right;\n",
       "    }\n",
       "</style>\n",
       "<table border=\"1\" class=\"dataframe\">\n",
       "  <thead>\n",
       "    <tr style=\"text-align: right;\">\n",
       "      <th></th>\n",
       "      <th>transaction_id</th>\n",
       "      <th>product_id</th>\n",
       "      <th>customer_id</th>\n",
       "      <th>transaction_date</th>\n",
       "      <th>online_order</th>\n",
       "      <th>order_status</th>\n",
       "      <th>brand</th>\n",
       "      <th>product_line</th>\n",
       "      <th>product_class</th>\n",
       "      <th>product_size</th>\n",
       "      <th>list_price</th>\n",
       "      <th>standard_cost</th>\n",
       "      <th>product_first_sold_date</th>\n",
       "    </tr>\n",
       "  </thead>\n",
       "  <tbody>\n",
       "    <tr>\n",
       "      <th>count</th>\n",
       "      <td>20001</td>\n",
       "      <td>20001</td>\n",
       "      <td>20001</td>\n",
       "      <td>20001</td>\n",
       "      <td>19641</td>\n",
       "      <td>20001</td>\n",
       "      <td>19804</td>\n",
       "      <td>19804</td>\n",
       "      <td>19804</td>\n",
       "      <td>19804</td>\n",
       "      <td>20001.00</td>\n",
       "      <td>19804.00</td>\n",
       "      <td>19804</td>\n",
       "    </tr>\n",
       "    <tr>\n",
       "      <th>unique</th>\n",
       "      <td>20001</td>\n",
       "      <td>102</td>\n",
       "      <td>3495</td>\n",
       "      <td>365</td>\n",
       "      <td>3</td>\n",
       "      <td>3</td>\n",
       "      <td>7</td>\n",
       "      <td>5</td>\n",
       "      <td>4</td>\n",
       "      <td>4</td>\n",
       "      <td>297.00</td>\n",
       "      <td>104.00</td>\n",
       "      <td>101</td>\n",
       "    </tr>\n",
       "    <tr>\n",
       "      <th>top</th>\n",
       "      <td>transaction_id</td>\n",
       "      <td>0</td>\n",
       "      <td>2183</td>\n",
       "      <td>2017-02-14 00:00:00</td>\n",
       "      <td>True</td>\n",
       "      <td>Approved</td>\n",
       "      <td>Solex</td>\n",
       "      <td>Standard</td>\n",
       "      <td>medium</td>\n",
       "      <td>medium</td>\n",
       "      <td>2091.47</td>\n",
       "      <td>388.92</td>\n",
       "      <td>33879</td>\n",
       "    </tr>\n",
       "    <tr>\n",
       "      <th>freq</th>\n",
       "      <td>1</td>\n",
       "      <td>1378</td>\n",
       "      <td>14</td>\n",
       "      <td>82</td>\n",
       "      <td>9829</td>\n",
       "      <td>19821</td>\n",
       "      <td>4253</td>\n",
       "      <td>14176</td>\n",
       "      <td>13826</td>\n",
       "      <td>12990</td>\n",
       "      <td>465.00</td>\n",
       "      <td>465.00</td>\n",
       "      <td>234</td>\n",
       "    </tr>\n",
       "  </tbody>\n",
       "</table>\n",
       "</div>"
      ],
      "text/plain": [
       "        transaction_id  product_id  customer_id     transaction_date  \\\n",
       "count            20001       20001        20001                20001   \n",
       "unique           20001         102         3495                  365   \n",
       "top     transaction_id           0         2183  2017-02-14 00:00:00   \n",
       "freq                 1        1378           14                   82   \n",
       "\n",
       "       online_order order_status  brand product_line product_class  \\\n",
       "count         19641        20001  19804        19804         19804   \n",
       "unique            3            3      7            5             4   \n",
       "top            True     Approved  Solex     Standard        medium   \n",
       "freq           9829        19821   4253        14176         13826   \n",
       "\n",
       "       product_size  list_price  standard_cost  product_first_sold_date  \n",
       "count         19804    20001.00       19804.00                    19804  \n",
       "unique            4      297.00         104.00                      101  \n",
       "top          medium     2091.47         388.92                    33879  \n",
       "freq          12990      465.00         465.00                      234  "
      ]
     },
     "execution_count": 82,
     "metadata": {},
     "output_type": "execute_result"
    }
   ],
   "source": [
    "trans.describe()"
   ]
  },
  {
   "cell_type": "markdown",
   "id": "756d1d37",
   "metadata": {},
   "source": [
    "*__From the table, I would say the transaction dataset has the correct Values in each Colums. However, I think it's missing the 'Profit' column.__*\n"
   ]
  },
  {
   "cell_type": "code",
   "execution_count": 232,
   "id": "f5f1e32d",
   "metadata": {},
   "outputs": [
    {
     "data": {
      "text/plain": [
       "2091.47    465\n",
       "1403.50    396\n",
       "71.49      274\n",
       "1231.15    235\n",
       "1890.39    233\n",
       "          ... \n",
       "1192.33      1\n",
       "1184.00      1\n",
       "1181.89      1\n",
       "1150.59      1\n",
       "2052.92      1\n",
       "Name: list_price, Length: 297, dtype: int64"
      ]
     },
     "execution_count": 232,
     "metadata": {},
     "output_type": "execute_result"
    }
   ],
   "source": [
    "trans['list_price'].value_counts()"
   ]
  },
  {
   "cell_type": "code",
   "execution_count": 237,
   "id": "35acb872",
   "metadata": {},
   "outputs": [
    {
     "data": {
      "text/plain": [
       "388.92           465\n",
       "954.82           396\n",
       "53.62            274\n",
       "161.6            235\n",
       "260.14           233\n",
       "                ... \n",
       "206.35           114\n",
       "667.4000244        1\n",
       "standard_cost      1\n",
       "270.2999878        1\n",
       "312.7350159        1\n",
       "Name: standard_cost, Length: 104, dtype: int64"
      ]
     },
     "execution_count": 237,
     "metadata": {},
     "output_type": "execute_result"
    }
   ],
   "source": [
    "trans['standard_cost'].value_counts()"
   ]
  },
  {
   "cell_type": "code",
   "execution_count": 238,
   "id": "36f56711",
   "metadata": {},
   "outputs": [
    {
     "data": {
      "text/plain": [
       "33879                      234\n",
       "41064                      229\n",
       "37823                      227\n",
       "39880                      222\n",
       "38216                      220\n",
       "                          ... \n",
       "42404                      168\n",
       "41922                      166\n",
       "37659                      163\n",
       "34586                      162\n",
       "product_first_sold_date      1\n",
       "Name: product_first_sold_date, Length: 101, dtype: int64"
      ]
     },
     "execution_count": 238,
     "metadata": {},
     "output_type": "execute_result"
    }
   ],
   "source": [
    "trans['product_first_sold_date'].value_counts()"
   ]
  },
  {
   "cell_type": "code",
   "execution_count": 259,
   "id": "5e81a387",
   "metadata": {},
   "outputs": [
    {
     "data": {
      "text/plain": [
       "True            9829\n",
       "False           9811\n",
       "online_order       1\n",
       "Name: online_order, dtype: int64"
      ]
     },
     "execution_count": 259,
     "metadata": {},
     "output_type": "execute_result"
    }
   ],
   "source": [
    "trans['online_order'].value_counts()"
   ]
  },
  {
   "cell_type": "markdown",
   "id": "4707bfb8",
   "metadata": {},
   "source": [
    "*__the 'product_first_sold_date' is not save in the date-time format__*"
   ]
  },
  {
   "cell_type": "markdown",
   "id": "292d103e",
   "metadata": {},
   "source": [
    "### Move to NewCus dataset"
   ]
  },
  {
   "cell_type": "code",
   "execution_count": 165,
   "id": "2876ad79",
   "metadata": {},
   "outputs": [
    {
     "data": {
      "text/plain": [
       "Index([                         'first_name',\n",
       "                                 'last_name',\n",
       "                                    'gender',\n",
       "       'past_3_years_bike_related_purchases',\n",
       "                                       'DOB',\n",
       "                                 'job_title',\n",
       "                     'job_industry_category',\n",
       "                            'wealth_segment',\n",
       "                        'deceased_indicator',\n",
       "                                  'owns_car',\n",
       "                                    'tenure',\n",
       "                                   'address',\n",
       "                                  'postcode',\n",
       "                                     'state',\n",
       "                                   'country',\n",
       "                        'property_valuation',\n",
       "                                         nan,\n",
       "                                         nan,\n",
       "                                         nan,\n",
       "                                         nan,\n",
       "                                         nan,\n",
       "                                      'Rank',\n",
       "                                     'Value'],\n",
       "      dtype='object')"
      ]
     },
     "execution_count": 165,
     "metadata": {},
     "output_type": "execute_result"
    }
   ],
   "source": [
    "newCus.columns"
   ]
  },
  {
   "cell_type": "markdown",
   "id": "5c03ae76",
   "metadata": {},
   "source": [
    "*__there are 5 nan columns__*"
   ]
  },
  {
   "cell_type": "code",
   "execution_count": 264,
   "id": "01a2ac62",
   "metadata": {},
   "outputs": [
    {
     "data": {
      "text/plain": [
       "Index(['first_name', 'last_name', 'gender',\n",
       "       'past_3_years_bike_related_purchases', 'DOB', 'job_title',\n",
       "       'job_industry_category', 'wealth_segment', 'deceased_indicator',\n",
       "       'owns_car', 'tenure', 'address', 'postcode', 'state', 'country', 'Rank',\n",
       "       'Value'],\n",
       "      dtype='object')"
      ]
     },
     "execution_count": 264,
     "metadata": {},
     "output_type": "execute_result"
    }
   ],
   "source": [
    "newCus1 = newCus.drop(newCus.columns[15:21], axis =1)\n",
    "newCus1.columns"
   ]
  },
  {
   "cell_type": "code",
   "execution_count": 265,
   "id": "507e5aa6",
   "metadata": {},
   "outputs": [
    {
     "data": {
      "text/html": [
       "<div>\n",
       "<style scoped>\n",
       "    .dataframe tbody tr th:only-of-type {\n",
       "        vertical-align: middle;\n",
       "    }\n",
       "\n",
       "    .dataframe tbody tr th {\n",
       "        vertical-align: top;\n",
       "    }\n",
       "\n",
       "    .dataframe thead th {\n",
       "        text-align: right;\n",
       "    }\n",
       "</style>\n",
       "<table border=\"1\" class=\"dataframe\">\n",
       "  <thead>\n",
       "    <tr style=\"text-align: right;\">\n",
       "      <th></th>\n",
       "      <th>first_name</th>\n",
       "      <th>last_name</th>\n",
       "      <th>gender</th>\n",
       "      <th>past_3_years_bike_related_purchases</th>\n",
       "      <th>DOB</th>\n",
       "      <th>job_title</th>\n",
       "      <th>job_industry_category</th>\n",
       "      <th>wealth_segment</th>\n",
       "      <th>deceased_indicator</th>\n",
       "      <th>owns_car</th>\n",
       "      <th>tenure</th>\n",
       "      <th>address</th>\n",
       "      <th>postcode</th>\n",
       "      <th>state</th>\n",
       "      <th>country</th>\n",
       "      <th>Rank</th>\n",
       "      <th>Value</th>\n",
       "    </tr>\n",
       "  </thead>\n",
       "  <tbody>\n",
       "    <tr>\n",
       "      <th>count</th>\n",
       "      <td>1001</td>\n",
       "      <td>972</td>\n",
       "      <td>1001</td>\n",
       "      <td>1001</td>\n",
       "      <td>984</td>\n",
       "      <td>895</td>\n",
       "      <td>836</td>\n",
       "      <td>1001</td>\n",
       "      <td>1001</td>\n",
       "      <td>1001</td>\n",
       "      <td>1001</td>\n",
       "      <td>1001</td>\n",
       "      <td>1001</td>\n",
       "      <td>1001</td>\n",
       "      <td>1001</td>\n",
       "      <td>1001</td>\n",
       "      <td>1001.0000</td>\n",
       "    </tr>\n",
       "    <tr>\n",
       "      <th>unique</th>\n",
       "      <td>941</td>\n",
       "      <td>962</td>\n",
       "      <td>4</td>\n",
       "      <td>101</td>\n",
       "      <td>962</td>\n",
       "      <td>185</td>\n",
       "      <td>10</td>\n",
       "      <td>4</td>\n",
       "      <td>2</td>\n",
       "      <td>3</td>\n",
       "      <td>24</td>\n",
       "      <td>1001</td>\n",
       "      <td>523</td>\n",
       "      <td>4</td>\n",
       "      <td>2</td>\n",
       "      <td>325</td>\n",
       "      <td>325.0000</td>\n",
       "    </tr>\n",
       "    <tr>\n",
       "      <th>top</th>\n",
       "      <td>Mandie</td>\n",
       "      <td>Minshall</td>\n",
       "      <td>Female</td>\n",
       "      <td>60</td>\n",
       "      <td>1955-11-25</td>\n",
       "      <td>Associate Professor</td>\n",
       "      <td>Financial Services</td>\n",
       "      <td>Mass Customer</td>\n",
       "      <td>N</td>\n",
       "      <td>No</td>\n",
       "      <td>9</td>\n",
       "      <td>42681 Carey Alley</td>\n",
       "      <td>2145</td>\n",
       "      <td>NSW</td>\n",
       "      <td>Australia</td>\n",
       "      <td>760</td>\n",
       "      <td>0.6375</td>\n",
       "    </tr>\n",
       "    <tr>\n",
       "      <th>freq</th>\n",
       "      <td>3</td>\n",
       "      <td>2</td>\n",
       "      <td>513</td>\n",
       "      <td>20</td>\n",
       "      <td>2</td>\n",
       "      <td>15</td>\n",
       "      <td>203</td>\n",
       "      <td>508</td>\n",
       "      <td>1000</td>\n",
       "      <td>507</td>\n",
       "      <td>79</td>\n",
       "      <td>1</td>\n",
       "      <td>9</td>\n",
       "      <td>506</td>\n",
       "      <td>1000</td>\n",
       "      <td>13</td>\n",
       "      <td>13.0000</td>\n",
       "    </tr>\n",
       "  </tbody>\n",
       "</table>\n",
       "</div>"
      ],
      "text/plain": [
       "       first_name last_name  gender past_3_years_bike_related_purchases  \\\n",
       "count        1001       972    1001                                1001   \n",
       "unique        941       962       4                                 101   \n",
       "top        Mandie  Minshall  Female                                  60   \n",
       "freq            3         2     513                                  20   \n",
       "\n",
       "               DOB            job_title job_industry_category wealth_segment  \\\n",
       "count          984                  895                   836           1001   \n",
       "unique         962                  185                    10              4   \n",
       "top     1955-11-25  Associate Professor    Financial Services  Mass Customer   \n",
       "freq             2                   15                   203            508   \n",
       "\n",
       "       deceased_indicator owns_car  tenure            address postcode state  \\\n",
       "count                1001     1001    1001               1001     1001  1001   \n",
       "unique                  2        3      24               1001      523     4   \n",
       "top                     N       No       9  42681 Carey Alley     2145   NSW   \n",
       "freq                 1000      507      79                  1        9   506   \n",
       "\n",
       "          country  Rank      Value  \n",
       "count        1001  1001  1001.0000  \n",
       "unique          2   325   325.0000  \n",
       "top     Australia   760     0.6375  \n",
       "freq         1000    13    13.0000  "
      ]
     },
     "execution_count": 265,
     "metadata": {},
     "output_type": "execute_result"
    }
   ],
   "source": [
    "newCus1.describe()"
   ]
  },
  {
   "cell_type": "code",
   "execution_count": 266,
   "id": "e050cbc6",
   "metadata": {},
   "outputs": [
    {
     "data": {
      "text/plain": [
       "Female    513\n",
       "Male      470\n",
       "U          17\n",
       "gender      1\n",
       "Name: gender, dtype: int64"
      ]
     },
     "execution_count": 266,
     "metadata": {},
     "output_type": "execute_result"
    }
   ],
   "source": [
    "newCus1['gender'].value_counts()"
   ]
  },
  {
   "cell_type": "code",
   "execution_count": 235,
   "id": "a263374c",
   "metadata": {},
   "outputs": [
    {
     "data": {
      "text/plain": [
       "Mass Customer        508\n",
       "High Net Worth       251\n",
       "Affluent Customer    241\n",
       "wealth_segment         1\n",
       "Name: wealth_segment, dtype: int64"
      ]
     },
     "execution_count": 235,
     "metadata": {},
     "output_type": "execute_result"
    }
   ],
   "source": [
    "newCus['wealth_segment'].value_counts()"
   ]
  },
  {
   "cell_type": "code",
   "execution_count": 236,
   "id": "6d65153d",
   "metadata": {},
   "outputs": [
    {
     "data": {
      "text/plain": [
       "9                     173\n",
       "8                     161\n",
       "7                     136\n",
       "10                    116\n",
       "6                      69\n",
       "11                     61\n",
       "5                      57\n",
       "4                      53\n",
       "3                      51\n",
       "12                     46\n",
       "2                      42\n",
       "1                      30\n",
       "7                       2\n",
       "property_valuation      1\n",
       "11                      1\n",
       "8                       1\n",
       "6                       1\n",
       "Name: property_valuation, dtype: int64"
      ]
     },
     "execution_count": 236,
     "metadata": {},
     "output_type": "execute_result"
    }
   ],
   "source": [
    "newCus['property_valuation'].value_counts()"
   ]
  },
  {
   "cell_type": "code",
   "execution_count": 242,
   "id": "9030c2b6",
   "metadata": {},
   "outputs": [
    {
     "data": {
      "text/plain": [
       "9         79\n",
       "13        74\n",
       "11        68\n",
       "10        63\n",
       "12        61\n",
       "7         60\n",
       "5         60\n",
       "17        59\n",
       "15        58\n",
       "8         55\n",
       "14        54\n",
       "16        49\n",
       "6         45\n",
       "4         36\n",
       "18        36\n",
       "19        34\n",
       "3         26\n",
       "21        24\n",
       "20        22\n",
       "2         15\n",
       "22        12\n",
       "1          8\n",
       "0          2\n",
       "tenure     1\n",
       "Name: tenure, dtype: int64"
      ]
     },
     "execution_count": 242,
     "metadata": {},
     "output_type": "execute_result"
    }
   ],
   "source": [
    "newCus['tenure'].value_counts()"
   ]
  },
  {
   "cell_type": "markdown",
   "id": "f01051fe",
   "metadata": {},
   "source": [
    "### CustomerDemographic"
   ]
  },
  {
   "cell_type": "code",
   "execution_count": 239,
   "id": "f7252fa2",
   "metadata": {},
   "outputs": [
    {
     "data": {
      "text/plain": [
       "Index([                        'customer_id',\n",
       "                                'first_name',\n",
       "                                 'last_name',\n",
       "                                    'gender',\n",
       "       'past_3_years_bike_related_purchases',\n",
       "                                       'DOB',\n",
       "                                 'job_title',\n",
       "                     'job_industry_category',\n",
       "                            'wealth_segment',\n",
       "                        'deceased_indicator',\n",
       "                                   'default',\n",
       "                                  'owns_car',\n",
       "                                    'tenure',\n",
       "                                         nan,\n",
       "                                         nan,\n",
       "                                         nan,\n",
       "                                         nan,\n",
       "                                         nan,\n",
       "                                         nan,\n",
       "                                         nan,\n",
       "                                         nan,\n",
       "                                         nan,\n",
       "                                         nan,\n",
       "                                         nan,\n",
       "                                         nan,\n",
       "                                         nan],\n",
       "      dtype='object')"
      ]
     },
     "execution_count": 239,
     "metadata": {},
     "output_type": "execute_result"
    }
   ],
   "source": [
    "cusDemograph.columns"
   ]
  },
  {
   "cell_type": "code",
   "execution_count": 241,
   "id": "57825bec",
   "metadata": {},
   "outputs": [
    {
     "data": {
      "text/plain": [
       "Index(['customer_id', 'first_name', 'last_name', 'gender',\n",
       "       'past_3_years_bike_related_purchases', 'DOB', 'job_title',\n",
       "       'job_industry_category', 'wealth_segment', 'deceased_indicator',\n",
       "       'default', 'owns_car', 'tenure'],\n",
       "      dtype='object')"
      ]
     },
     "execution_count": 241,
     "metadata": {},
     "output_type": "execute_result"
    }
   ],
   "source": [
    "cusDemograph = cusDemograph.iloc[:,0:13]\n",
    "cusDemograph.columns"
   ]
  },
  {
   "cell_type": "code",
   "execution_count": 243,
   "id": "463e4acd",
   "metadata": {},
   "outputs": [
    {
     "data": {
      "text/html": [
       "<div>\n",
       "<style scoped>\n",
       "    .dataframe tbody tr th:only-of-type {\n",
       "        vertical-align: middle;\n",
       "    }\n",
       "\n",
       "    .dataframe tbody tr th {\n",
       "        vertical-align: top;\n",
       "    }\n",
       "\n",
       "    .dataframe thead th {\n",
       "        text-align: right;\n",
       "    }\n",
       "</style>\n",
       "<table border=\"1\" class=\"dataframe\">\n",
       "  <thead>\n",
       "    <tr style=\"text-align: right;\">\n",
       "      <th></th>\n",
       "      <th>customer_id</th>\n",
       "      <th>first_name</th>\n",
       "      <th>last_name</th>\n",
       "      <th>gender</th>\n",
       "      <th>past_3_years_bike_related_purchases</th>\n",
       "      <th>DOB</th>\n",
       "      <th>job_title</th>\n",
       "      <th>job_industry_category</th>\n",
       "      <th>wealth_segment</th>\n",
       "      <th>deceased_indicator</th>\n",
       "      <th>default</th>\n",
       "      <th>owns_car</th>\n",
       "      <th>tenure</th>\n",
       "    </tr>\n",
       "  </thead>\n",
       "  <tbody>\n",
       "    <tr>\n",
       "      <th>count</th>\n",
       "      <td>4001</td>\n",
       "      <td>4001</td>\n",
       "      <td>3876</td>\n",
       "      <td>4001</td>\n",
       "      <td>4001</td>\n",
       "      <td>3914</td>\n",
       "      <td>3495</td>\n",
       "      <td>3345</td>\n",
       "      <td>4001</td>\n",
       "      <td>4001</td>\n",
       "      <td>3699</td>\n",
       "      <td>4001</td>\n",
       "      <td>3914</td>\n",
       "    </tr>\n",
       "    <tr>\n",
       "      <th>unique</th>\n",
       "      <td>4001</td>\n",
       "      <td>3140</td>\n",
       "      <td>3726</td>\n",
       "      <td>7</td>\n",
       "      <td>101</td>\n",
       "      <td>3449</td>\n",
       "      <td>196</td>\n",
       "      <td>10</td>\n",
       "      <td>4</td>\n",
       "      <td>3</td>\n",
       "      <td>91</td>\n",
       "      <td>3</td>\n",
       "      <td>23</td>\n",
       "    </tr>\n",
       "    <tr>\n",
       "      <th>top</th>\n",
       "      <td>customer_id</td>\n",
       "      <td>Timmie</td>\n",
       "      <td>Ramsdell</td>\n",
       "      <td>Female</td>\n",
       "      <td>19</td>\n",
       "      <td>1978-01-30 00:00:00</td>\n",
       "      <td>Business Systems Development Analyst</td>\n",
       "      <td>Manufacturing</td>\n",
       "      <td>Mass Customer</td>\n",
       "      <td>N</td>\n",
       "      <td>100</td>\n",
       "      <td>Yes</td>\n",
       "      <td>7</td>\n",
       "    </tr>\n",
       "    <tr>\n",
       "      <th>freq</th>\n",
       "      <td>1</td>\n",
       "      <td>5</td>\n",
       "      <td>3</td>\n",
       "      <td>2037</td>\n",
       "      <td>56</td>\n",
       "      <td>7</td>\n",
       "      <td>45</td>\n",
       "      <td>799</td>\n",
       "      <td>2000</td>\n",
       "      <td>3998</td>\n",
       "      <td>113</td>\n",
       "      <td>2024</td>\n",
       "      <td>235</td>\n",
       "    </tr>\n",
       "  </tbody>\n",
       "</table>\n",
       "</div>"
      ],
      "text/plain": [
       "        customer_id first_name last_name  gender  \\\n",
       "count          4001       4001      3876    4001   \n",
       "unique         4001       3140      3726       7   \n",
       "top     customer_id     Timmie  Ramsdell  Female   \n",
       "freq              1          5         3    2037   \n",
       "\n",
       "        past_3_years_bike_related_purchases                  DOB  \\\n",
       "count                                  4001                 3914   \n",
       "unique                                  101                 3449   \n",
       "top                                      19  1978-01-30 00:00:00   \n",
       "freq                                     56                    7   \n",
       "\n",
       "                                   job_title job_industry_category  \\\n",
       "count                                   3495                  3345   \n",
       "unique                                   196                    10   \n",
       "top     Business Systems Development Analyst         Manufacturing   \n",
       "freq                                      45                   799   \n",
       "\n",
       "       wealth_segment deceased_indicator  default owns_car  tenure  \n",
       "count            4001               4001     3699     4001    3914  \n",
       "unique              4                  3       91        3      23  \n",
       "top     Mass Customer                  N      100      Yes       7  \n",
       "freq             2000               3998      113     2024     235  "
      ]
     },
     "execution_count": 243,
     "metadata": {},
     "output_type": "execute_result"
    }
   ],
   "source": [
    "cusDemograph.describe()"
   ]
  },
  {
   "cell_type": "markdown",
   "id": "5c02c087",
   "metadata": {},
   "source": [
    "### CustomerAddress dataset\n"
   ]
  },
  {
   "cell_type": "code",
   "execution_count": 251,
   "id": "4e8efe1c",
   "metadata": {},
   "outputs": [
    {
     "data": {
      "text/plain": [
       "Index(['customer_id', 'address', 'postcode', 'state', 'country',\n",
       "       'property_valuation'],\n",
       "      dtype='object')"
      ]
     },
     "execution_count": 251,
     "metadata": {},
     "output_type": "execute_result"
    }
   ],
   "source": [
    "address = address.iloc[:,0:6]\n",
    "address.columns"
   ]
  },
  {
   "cell_type": "code",
   "execution_count": 253,
   "id": "b315e9b1",
   "metadata": {},
   "outputs": [
    {
     "data": {
      "text/html": [
       "<div>\n",
       "<style scoped>\n",
       "    .dataframe tbody tr th:only-of-type {\n",
       "        vertical-align: middle;\n",
       "    }\n",
       "\n",
       "    .dataframe tbody tr th {\n",
       "        vertical-align: top;\n",
       "    }\n",
       "\n",
       "    .dataframe thead th {\n",
       "        text-align: right;\n",
       "    }\n",
       "</style>\n",
       "<table border=\"1\" class=\"dataframe\">\n",
       "  <thead>\n",
       "    <tr style=\"text-align: right;\">\n",
       "      <th></th>\n",
       "      <th>customer_id</th>\n",
       "      <th>address</th>\n",
       "      <th>postcode</th>\n",
       "      <th>state</th>\n",
       "      <th>country</th>\n",
       "      <th>property_valuation</th>\n",
       "    </tr>\n",
       "  </thead>\n",
       "  <tbody>\n",
       "    <tr>\n",
       "      <th>count</th>\n",
       "      <td>4000</td>\n",
       "      <td>4000</td>\n",
       "      <td>4000</td>\n",
       "      <td>4000</td>\n",
       "      <td>4000</td>\n",
       "      <td>4000</td>\n",
       "    </tr>\n",
       "    <tr>\n",
       "      <th>unique</th>\n",
       "      <td>4000</td>\n",
       "      <td>3997</td>\n",
       "      <td>874</td>\n",
       "      <td>6</td>\n",
       "      <td>2</td>\n",
       "      <td>13</td>\n",
       "    </tr>\n",
       "    <tr>\n",
       "      <th>top</th>\n",
       "      <td>customer_id</td>\n",
       "      <td>3 Talisman Place</td>\n",
       "      <td>2170</td>\n",
       "      <td>NSW</td>\n",
       "      <td>Australia</td>\n",
       "      <td>9</td>\n",
       "    </tr>\n",
       "    <tr>\n",
       "      <th>freq</th>\n",
       "      <td>1</td>\n",
       "      <td>2</td>\n",
       "      <td>31</td>\n",
       "      <td>2054</td>\n",
       "      <td>3999</td>\n",
       "      <td>647</td>\n",
       "    </tr>\n",
       "  </tbody>\n",
       "</table>\n",
       "</div>"
      ],
      "text/plain": [
       "        customer_id           address  postcode state    country  \\\n",
       "count          4000              4000      4000  4000       4000   \n",
       "unique         4000              3997       874     6          2   \n",
       "top     customer_id  3 Talisman Place      2170   NSW  Australia   \n",
       "freq              1                 2        31  2054       3999   \n",
       "\n",
       "        property_valuation  \n",
       "count                 4000  \n",
       "unique                  13  \n",
       "top                      9  \n",
       "freq                   647  "
      ]
     },
     "execution_count": 253,
     "metadata": {},
     "output_type": "execute_result"
    }
   ],
   "source": [
    "address.describe()"
   ]
  },
  {
   "cell_type": "code",
   "execution_count": null,
   "id": "e4b04816",
   "metadata": {},
   "outputs": [],
   "source": []
  },
  {
   "cell_type": "markdown",
   "id": "5b504954",
   "metadata": {},
   "source": [
    "### Checking Null Values ( Completeness) among all datasets."
   ]
  },
  {
   "cell_type": "code",
   "execution_count": 67,
   "id": "d9a03256",
   "metadata": {},
   "outputs": [
    {
     "data": {
      "text/plain": [
       "transaction_id               0\n",
       "product_id                   0\n",
       "customer_id                  0\n",
       "transaction_date             0\n",
       "online_order               360\n",
       "order_status                 0\n",
       "brand                      197\n",
       "product_line               197\n",
       "product_class              197\n",
       "product_size               197\n",
       "list_price                   0\n",
       "standard_cost              197\n",
       "product_first_sold_date    197\n",
       "dtype: int64"
      ]
     },
     "execution_count": 67,
     "metadata": {},
     "output_type": "execute_result"
    }
   ],
   "source": [
    "# checking nulls\n",
    "trans.isnull().sum()"
   ]
  },
  {
   "cell_type": "code",
   "execution_count": 77,
   "id": "70d5bcd4",
   "metadata": {
    "scrolled": true
   },
   "outputs": [
    {
     "data": {
      "text/plain": [
       "first_name                               0\n",
       "last_name                               29\n",
       "gender                                   0\n",
       "past_3_years_bike_related_purchases      0\n",
       "DOB                                     17\n",
       "job_title                              106\n",
       "job_industry_category                  165\n",
       "wealth_segment                           0\n",
       "deceased_indicator                       0\n",
       "owns_car                                 0\n",
       "tenure                                   0\n",
       "address                                  0\n",
       "postcode                                 0\n",
       "state                                    0\n",
       "country                                  0\n",
       "property_valuation                       0\n",
       "NaN                                      1\n",
       "NaN                                      1\n",
       "NaN                                      1\n",
       "NaN                                      1\n",
       "NaN                                      1\n",
       "Rank                                     0\n",
       "Value                                    0\n",
       "dtype: int64"
      ]
     },
     "execution_count": 77,
     "metadata": {},
     "output_type": "execute_result"
    }
   ],
   "source": [
    "newCus.isnull().sum()"
   ]
  },
  {
   "cell_type": "code",
   "execution_count": 267,
   "id": "c335fcae",
   "metadata": {},
   "outputs": [
    {
     "data": {
      "text/plain": [
       "customer_id                               0\n",
       "first_name                                0\n",
       "last_name                               125\n",
       "gender                                    0\n",
       "past_3_years_bike_related_purchases       0\n",
       "DOB                                      87\n",
       "job_title                               506\n",
       "job_industry_category                   656\n",
       "wealth_segment                            0\n",
       "deceased_indicator                        0\n",
       "default                                 302\n",
       "owns_car                                  0\n",
       "tenure                                   87\n",
       "NaN                                    4001\n",
       "NaN                                    4001\n",
       "NaN                                    4001\n",
       "NaN                                    4001\n",
       "NaN                                    4001\n",
       "NaN                                    4001\n",
       "NaN                                    4001\n",
       "NaN                                    4001\n",
       "NaN                                    4001\n",
       "NaN                                    4001\n",
       "NaN                                    4001\n",
       "NaN                                    4001\n",
       "NaN                                    4001\n",
       "dtype: int64"
      ]
     },
     "execution_count": 267,
     "metadata": {},
     "output_type": "execute_result"
    }
   ],
   "source": [
    "cusDemograph.isnull().sum()"
   ]
  },
  {
   "cell_type": "code",
   "execution_count": 268,
   "id": "347f8ee1",
   "metadata": {},
   "outputs": [
    {
     "data": {
      "text/plain": [
       "customer_id           0\n",
       "address               0\n",
       "postcode              0\n",
       "state                 0\n",
       "country               0\n",
       "property_valuation    0\n",
       "dtype: int64"
      ]
     },
     "execution_count": 268,
     "metadata": {},
     "output_type": "execute_result"
    }
   ],
   "source": [
    "address.isnull().sum()"
   ]
  },
  {
   "cell_type": "markdown",
   "id": "491dff82",
   "metadata": {},
   "source": [
    "### Checking consistency"
   ]
  },
  {
   "cell_type": "code",
   "execution_count": 269,
   "id": "f2ee5298",
   "metadata": {},
   "outputs": [
    {
     "name": "stdout",
     "output_type": "stream",
     "text": [
      "transaction_id              object\n",
      "product_id                  object\n",
      "customer_id                 object\n",
      "transaction_date            object\n",
      "online_order                object\n",
      "order_status                object\n",
      "brand                       object\n",
      "product_line                object\n",
      "product_class               object\n",
      "product_size                object\n",
      "list_price                  object\n",
      "standard_cost               object\n",
      "product_first_sold_date     object\n",
      "NaN                        float64\n",
      "NaN                        float64\n",
      "NaN                        float64\n",
      "NaN                        float64\n",
      "NaN                        float64\n",
      "NaN                        float64\n",
      "NaN                        float64\n",
      "NaN                        float64\n",
      "NaN                        float64\n",
      "NaN                        float64\n",
      "NaN                        float64\n",
      "NaN                        float64\n",
      "NaN                        float64\n",
      "dtype: object\n"
     ]
    }
   ],
   "source": [
    "print(trans.dtypes)"
   ]
  },
  {
   "cell_type": "code",
   "execution_count": 270,
   "id": "9e8b2788",
   "metadata": {},
   "outputs": [
    {
     "name": "stdout",
     "output_type": "stream",
     "text": [
      "first_name                             object\n",
      "last_name                              object\n",
      "gender                                 object\n",
      "past_3_years_bike_related_purchases    object\n",
      "DOB                                    object\n",
      "job_title                              object\n",
      "job_industry_category                  object\n",
      "wealth_segment                         object\n",
      "deceased_indicator                     object\n",
      "owns_car                               object\n",
      "tenure                                 object\n",
      "address                                object\n",
      "postcode                               object\n",
      "state                                  object\n",
      "country                                object\n",
      "Rank                                   object\n",
      "Value                                  object\n",
      "dtype: object\n"
     ]
    }
   ],
   "source": [
    "print(newCus1.dtypes)"
   ]
  },
  {
   "cell_type": "code",
   "execution_count": 271,
   "id": "841ecfd7",
   "metadata": {},
   "outputs": [
    {
     "name": "stdout",
     "output_type": "stream",
     "text": [
      "customer_id                             object\n",
      "first_name                              object\n",
      "last_name                               object\n",
      "gender                                  object\n",
      "past_3_years_bike_related_purchases     object\n",
      "DOB                                     object\n",
      "job_title                               object\n",
      "job_industry_category                   object\n",
      "wealth_segment                          object\n",
      "deceased_indicator                      object\n",
      "default                                 object\n",
      "owns_car                                object\n",
      "tenure                                  object\n",
      "NaN                                    float64\n",
      "NaN                                    float64\n",
      "NaN                                    float64\n",
      "NaN                                    float64\n",
      "NaN                                    float64\n",
      "NaN                                    float64\n",
      "NaN                                    float64\n",
      "NaN                                    float64\n",
      "NaN                                    float64\n",
      "NaN                                    float64\n",
      "NaN                                    float64\n",
      "NaN                                    float64\n",
      "NaN                                    float64\n",
      "dtype: object\n"
     ]
    }
   ],
   "source": [
    "print(cusDemograph.dtypes)"
   ]
  },
  {
   "cell_type": "code",
   "execution_count": 273,
   "id": "7e7432b8",
   "metadata": {},
   "outputs": [
    {
     "name": "stdout",
     "output_type": "stream",
     "text": [
      "5\n"
     ]
    }
   ],
   "source": [
    "print(newCus1['postcode'].value_counts()[4000])"
   ]
  },
  {
   "cell_type": "code",
   "execution_count": 274,
   "id": "78ef71b6",
   "metadata": {},
   "outputs": [
    {
     "data": {
      "text/plain": [
       "Female    2037\n",
       "Male      1872\n",
       "U           88\n",
       "M            1\n",
       "Femal        1\n",
       "F            1\n",
       "gender       1\n",
       "Name: gender, dtype: int64"
      ]
     },
     "execution_count": 274,
     "metadata": {},
     "output_type": "execute_result"
    }
   ],
   "source": [
    "cusDemograph['gender'].value_counts()"
   ]
  },
  {
   "cell_type": "code",
   "execution_count": 275,
   "id": "74412534",
   "metadata": {},
   "outputs": [
    {
     "data": {
      "text/plain": [
       "100                                       113\n",
       "1                                         112\n",
       "-1                                        111\n",
       "-100                                       99\n",
       "â°â´âµâââ                                  53\n",
       "                                         ... \n",
       "/dev/null; touch /tmp/blns.fail ; echo     30\n",
       "âªâªtestâª                                 29\n",
       "ì¸ëë°í ë¥´                                 27\n",
       ",ãã»:*:ã»ãâ( â» Ï â» )ãã»:*:ã»ãâ           25\n",
       "default                                     1\n",
       "Name: default, Length: 91, dtype: int64"
      ]
     },
     "execution_count": 275,
     "metadata": {},
     "output_type": "execute_result"
    }
   ],
   "source": [
    "cusDemograph['default'].value_counts()"
   ]
  },
  {
   "cell_type": "markdown",
   "id": "7fe7c5e1",
   "metadata": {},
   "source": [
    "### Checking Relevancy"
   ]
  },
  {
   "cell_type": "code",
   "execution_count": 276,
   "id": "545ac8a0",
   "metadata": {},
   "outputs": [
    {
     "data": {
      "text/plain": [
       "Approved        19821\n",
       "Cancelled         179\n",
       "order_status        1\n",
       "Name: order_status, dtype: int64"
      ]
     },
     "execution_count": 276,
     "metadata": {},
     "output_type": "execute_result"
    }
   ],
   "source": [
    "trans['order_status'].value_counts()"
   ]
  },
  {
   "cell_type": "code",
   "execution_count": 277,
   "id": "27f499c0",
   "metadata": {},
   "outputs": [
    {
     "data": {
      "text/plain": [
       "N                     1000\n",
       "deceased_indicator       1\n",
       "Name: deceased_indicator, dtype: int64"
      ]
     },
     "execution_count": 277,
     "metadata": {},
     "output_type": "execute_result"
    }
   ],
   "source": [
    "newCus['deceased_indicator'].value_counts()"
   ]
  },
  {
   "cell_type": "markdown",
   "id": "1025bccb",
   "metadata": {},
   "source": [
    "### Checking Uniqueness"
   ]
  },
  {
   "cell_type": "code",
   "execution_count": 279,
   "id": "a62c9d3f",
   "metadata": {},
   "outputs": [
    {
     "data": {
      "text/plain": [
       "transaction_id             20001\n",
       "product_id                   102\n",
       "customer_id                 3495\n",
       "transaction_date             365\n",
       "online_order                   3\n",
       "order_status                   3\n",
       "brand                          7\n",
       "product_line                   5\n",
       "product_class                  4\n",
       "product_size                   4\n",
       "list_price                   297\n",
       "standard_cost                104\n",
       "product_first_sold_date      101\n",
       "NaN                            0\n",
       "NaN                            0\n",
       "NaN                            0\n",
       "NaN                            0\n",
       "NaN                            0\n",
       "NaN                            0\n",
       "NaN                            0\n",
       "NaN                            0\n",
       "NaN                            0\n",
       "NaN                            0\n",
       "NaN                            0\n",
       "NaN                            0\n",
       "NaN                            0\n",
       "dtype: int64"
      ]
     },
     "execution_count": 279,
     "metadata": {},
     "output_type": "execute_result"
    }
   ],
   "source": [
    "trans.nunique()"
   ]
  },
  {
   "cell_type": "code",
   "execution_count": 282,
   "id": "35ea8efd",
   "metadata": {},
   "outputs": [
    {
     "name": "stdout",
     "output_type": "stream",
     "text": [
      "0\n"
     ]
    }
   ],
   "source": [
    "trans1 = trans.dropna()\n",
    "print(trans1.duplicated().sum())"
   ]
  },
  {
   "cell_type": "code",
   "execution_count": 283,
   "id": "292c3cfe",
   "metadata": {},
   "outputs": [
    {
     "name": "stdout",
     "output_type": "stream",
     "text": [
      "0\n"
     ]
    }
   ],
   "source": [
    "print(newCus1.duplicated().sum())"
   ]
  },
  {
   "cell_type": "code",
   "execution_count": 284,
   "id": "f8ba9abe",
   "metadata": {},
   "outputs": [
    {
     "data": {
      "text/plain": [
       "first_name                              941\n",
       "last_name                               962\n",
       "gender                                    4\n",
       "past_3_years_bike_related_purchases     101\n",
       "DOB                                     962\n",
       "job_title                               185\n",
       "job_industry_category                    10\n",
       "wealth_segment                            4\n",
       "deceased_indicator                        2\n",
       "owns_car                                  3\n",
       "tenure                                   24\n",
       "address                                1001\n",
       "postcode                                523\n",
       "state                                     4\n",
       "country                                   2\n",
       "Rank                                    325\n",
       "Value                                   325\n",
       "dtype: int64"
      ]
     },
     "execution_count": 284,
     "metadata": {},
     "output_type": "execute_result"
    }
   ],
   "source": [
    "newCus1.nunique()"
   ]
  },
  {
   "cell_type": "code",
   "execution_count": 289,
   "id": "42ecd552",
   "metadata": {},
   "outputs": [
    {
     "name": "stdout",
     "output_type": "stream",
     "text": [
      "0\n"
     ]
    }
   ],
   "source": [
    "cusDemo = cusDemograph.dropna()\n",
    "print(cusDemo.duplicated().sum())"
   ]
  },
  {
   "cell_type": "code",
   "execution_count": 293,
   "id": "3dbeafb7",
   "metadata": {},
   "outputs": [
    {
     "data": {
      "text/plain": [
       "0"
      ]
     },
     "execution_count": 293,
     "metadata": {},
     "output_type": "execute_result"
    }
   ],
   "source": [
    "address.duplicated().sum()"
   ]
  },
  {
   "cell_type": "code",
   "execution_count": null,
   "id": "5bdddd39",
   "metadata": {},
   "outputs": [],
   "source": []
  }
 ],
 "metadata": {
  "kernelspec": {
   "display_name": "Python 3",
   "language": "python",
   "name": "python3"
  },
  "language_info": {
   "codemirror_mode": {
    "name": "ipython",
    "version": 3
   },
   "file_extension": ".py",
   "mimetype": "text/x-python",
   "name": "python",
   "nbconvert_exporter": "python",
   "pygments_lexer": "ipython3",
   "version": "3.7.6"
  }
 },
 "nbformat": 4,
 "nbformat_minor": 5
}
